{
  "nbformat": 4,
  "nbformat_minor": 0,
  "metadata": {
    "colab": {
      "name": "Print Colored Text with Python.ipynb",
      "provenance": [],
      "collapsed_sections": [],
      "authorship_tag": "ABX9TyPii8xySPI/Nkdbc7oOScXY",
      "include_colab_link": true
    },
    "kernelspec": {
      "name": "python3",
      "display_name": "Python 3"
    },
    "language_info": {
      "name": "python"
    }
  },
  "cells": [
    {
      "cell_type": "markdown",
      "metadata": {
        "id": "view-in-github",
        "colab_type": "text"
      },
      "source": [
        "<a href=\"https://colab.research.google.com/github/ashkanmulla/Python-Projects/blob/main/Print_Colored_Text_with_Python.ipynb\" target=\"_parent\"><img src=\"https://colab.research.google.com/assets/colab-badge.svg\" alt=\"Open In Colab\"/></a>"
      ]
    },
    {
      "cell_type": "code",
      "metadata": {
        "colab": {
          "base_uri": "https://localhost:8080/"
        },
        "id": "Fao9U3UQM7fS",
        "outputId": "0b7a0ada-b33b-4ab3-809f-74e843969bb5"
      },
      "source": [
        "pip install colorama\n"
      ],
      "execution_count": 12,
      "outputs": [
        {
          "output_type": "stream",
          "name": "stdout",
          "text": [
            "Collecting colorama\n",
            "  Downloading colorama-0.4.4-py2.py3-none-any.whl (16 kB)\n",
            "Installing collected packages: colorama\n",
            "Successfully installed colorama-0.4.4\n"
          ]
        }
      ]
    },
    {
      "cell_type": "code",
      "metadata": {
        "colab": {
          "base_uri": "https://localhost:8080/"
        },
        "id": "wQszE0xEM_WZ",
        "outputId": "fabf7d64-741d-471c-dd97-fccf07468e77"
      },
      "source": [
        "import colorama\n",
        "from colorama import Fore, Back, Style\n",
        "colorama.init(autoreset=True)\n",
        "\n",
        "print(Fore.BLUE+Back.YELLOW+\"Hi My name is Ashkan Mulla \"+ Fore.YELLOW+ Back.BLUE+\"I am an Engineer\")\n",
        "print(Back.CYAN+\"Hi My name is Ashkan Mulla\")\n",
        "print(Fore.RED + Back.GREEN+ \"Hi My name is Ashkan Mulla\")"
      ],
      "execution_count": 14,
      "outputs": [
        {
          "output_type": "stream",
          "name": "stdout",
          "text": [
            "Hi My name is Ashkan Mulla I am an Engineer\n",
            "Hi My name is Ashkan Mulla\n",
            "Hi My name is Ashkan Mulla\n"
          ]
        }
      ]
    },
    {
      "cell_type": "code",
      "metadata": {
        "id": "y-ZKSCCpNN_0"
      },
      "source": [
        ""
      ],
      "execution_count": null,
      "outputs": []
    }
  ]
}