{
  "nbformat": 4,
  "nbformat_minor": 0,
  "metadata": {
    "colab": {
      "name": "P-81 Air Quality forecasting(CO2 emissions).ipynb",
      "private_outputs": true,
      "provenance": [],
      "collapsed_sections": [],
      "include_colab_link": true
    },
    "kernelspec": {
      "name": "python3",
      "display_name": "Python 3"
    },
    "language_info": {
      "name": "python"
    }
  },
  "cells": [
    {
      "cell_type": "markdown",
      "metadata": {
        "id": "view-in-github",
        "colab_type": "text"
      },
      "source": [
        "<a href=\"https://colab.research.google.com/github/ashkanmulla/Python-Projects/blob/main/P_81_Air_Quality_forecasting(CO2_emissions).ipynb\" target=\"_parent\"><img src=\"https://colab.research.google.com/assets/colab-badge.svg\" alt=\"Open In Colab\"/></a>"
      ]
    },
    {
      "cell_type": "code",
      "metadata": {
        "id": "4IeFlOsABa3m"
      },
      "source": [
        "#@title\n",
        "import pandas as pd \n",
        "import numpy as np\n",
        "import seaborn as sns \n",
        "import matplotlib.pyplot as plt\n",
        "%matplotlib inline"
      ],
      "execution_count": null,
      "outputs": []
    },
    {
      "cell_type": "code",
      "metadata": {
        "id": "1RzMuTIFHlWL"
      },
      "source": [
        "df = pd.read_csv(\"/content/CO2 dataset.csv\")\n",
        "df.head()"
      ],
      "execution_count": null,
      "outputs": []
    },
    {
      "cell_type": "code",
      "metadata": {
        "id": "6NfzdhuJIViV"
      },
      "source": [
        "df.info()"
      ],
      "execution_count": null,
      "outputs": []
    },
    {
      "cell_type": "markdown",
      "metadata": {
        "id": "RylmOKzyvLQw"
      },
      "source": [
        "we can use the argument parse_dates to specify a list of date columns."
      ]
    },
    {
      "cell_type": "code",
      "metadata": {
        "id": "zgQ8ZuSclwF1"
      },
      "source": [
        "df = pd.read_csv('/content/CO2 dataset.csv', parse_dates=[0,1])\n",
        "df.describe"
      ],
      "execution_count": null,
      "outputs": []
    },
    {
      "cell_type": "code",
      "metadata": {
        "id": "jDsT5QD-wU7k"
      },
      "source": [
        "data_df = df"
      ],
      "execution_count": null,
      "outputs": []
    },
    {
      "cell_type": "code",
      "metadata": {
        "id": "3KLYRSrRufXy"
      },
      "source": [
        "#df ['datetime'] = pd.to_datetime(df[['Year', 'month','day']])\n",
        "#data_df['datetime'] = pd.to_datetime(data_df[['year', 'month','day', 'hour']])\n",
        "#data_df = data_df.drop(['year', 'month','day', 'hour'], axis = 1)\n",
        "#df = df.drop(['Year', 'month','day'], axis = 1)"
      ],
      "execution_count": null,
      "outputs": []
    },
    {
      "cell_type": "code",
      "metadata": {
        "id": "K6EOMHTJaE8o"
      },
      "source": [
        "#df.describe = df.(parcentiles=None, include=None, exclude=None, datetime_is_numeric=False)\n",
        "             #week = ['Mon','Tue','Wed','Thu','Fri','Sat','Sun']\n",
        "#Months = ['Jan','Feb','Mar','Apr','May','Jun','Jul','Aug','Sep','Oct','Nov','Dec']"
      ],
      "execution_count": null,
      "outputs": []
    },
    {
      "cell_type": "code",
      "metadata": {
        "id": "zVeuNvWyrRR3"
      },
      "source": [
        "data_df.shape"
      ],
      "execution_count": null,
      "outputs": []
    },
    {
      "cell_type": "markdown",
      "metadata": {
        "id": "fXXXgZmRxN68"
      },
      "source": [
        "if there are some invalid values like @@ and ‘*’ in the data which we will be treating as missing values. But checked data set no @@ n * values found"
      ]
    },
    {
      "cell_type": "code",
      "metadata": {
        "id": "A2g82UmatHWG"
      },
      "source": [
        "data_df['CO2'] = data_df['CO2'].replace(to_replace= ' @@', value = np.nan)\n",
        "data_df['CO2'] = data_df['CO2'].astype(float)"
      ],
      "execution_count": null,
      "outputs": []
    },
    {
      "cell_type": "code",
      "metadata": {
        "id": "y6P1AE6dt-P9"
      },
      "source": [
        "data_df.info()"
      ],
      "execution_count": null,
      "outputs": []
    },
    {
      "cell_type": "code",
      "metadata": {
        "id": "FvijbWtEJKiJ"
      },
      "source": [
        "data_df.boxplot(column=['CO2'])\n",
        "plt.show()"
      ],
      "execution_count": null,
      "outputs": []
    },
    {
      "cell_type": "markdown",
      "metadata": {
        "id": "EbrNM19Mx25c"
      },
      "source": [
        "Check for duplicate data"
      ]
    },
    {
      "cell_type": "code",
      "metadata": {
        "id": "WaHslhqwwVwh"
      },
      "source": [
        "duplicate = data_df.duplicated()\n",
        "print(duplicate.sum())\n",
        "data_df[duplicate]"
      ],
      "execution_count": null,
      "outputs": []
    },
    {
      "cell_type": "markdown",
      "metadata": {
        "id": "Sa2BrJXtyZEb"
      },
      "source": [
        "We will remove this from the data set so that we get only distinct records. Post removing the duplicate, we will check whether the duplicates have been removed from the data set or not."
      ]
    },
    {
      "cell_type": "code",
      "metadata": {
        "id": "PkmrgJ5myDv2"
      },
      "source": [
        "data_df.drop_duplicates(inplace=True)"
      ],
      "execution_count": null,
      "outputs": []
    },
    {
      "cell_type": "code",
      "metadata": {
        "id": "KkcN72hoyi81"
      },
      "source": [
        "df1 = data_df.duplicated()\n",
        "df1.sum()"
      ],
      "execution_count": null,
      "outputs": []
    },
    {
      "cell_type": "code",
      "metadata": {
        "id": "6HTLg5RCxhCG"
      },
      "source": [
        "data_df.corr()"
      ],
      "execution_count": null,
      "outputs": []
    }
  ]
}