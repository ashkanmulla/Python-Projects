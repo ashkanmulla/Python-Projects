{
  "nbformat": 4,
  "nbformat_minor": 0,
  "metadata": {
    "colab": {
      "name": "Email Slicer with Python.ipynb",
      "provenance": [],
      "authorship_tag": "ABX9TyM7nzgf7DMq2yezFwqbFtrp",
      "include_colab_link": true
    },
    "kernelspec": {
      "name": "python3",
      "display_name": "Python 3"
    },
    "language_info": {
      "name": "python"
    }
  },
  "cells": [
    {
      "cell_type": "markdown",
      "metadata": {
        "id": "view-in-github",
        "colab_type": "text"
      },
      "source": [
        "<a href=\"https://colab.research.google.com/github/ashkanmulla/Python-Projects/blob/main/Email_Slicer_with_Python.ipynb\" target=\"_parent\"><img src=\"https://colab.research.google.com/assets/colab-badge.svg\" alt=\"Open In Colab\"/></a>"
      ]
    },
    {
      "cell_type": "code",
      "metadata": {
        "colab": {
          "base_uri": "https://localhost:8080/"
        },
        "id": "nK6VivlsLCEx",
        "outputId": "82ac6482-66aa-46c0-c726-fb0bd33b55e5"
      },
      "source": [
        "email = input(\"Enter Your Email: \").strip()\n",
        "username = email[:email.index(\"@\")]\n",
        "domain_name = email[email.index(\"@\")+1:]\n",
        "format_ = (f\"Your user name is '{username}' and your domain is '{domain_name}'\")\n",
        "print(format_)"
      ],
      "execution_count": 5,
      "outputs": [
        {
          "output_type": "stream",
          "name": "stdout",
          "text": [
            "Enter Your Email: ashkanmulla@gmail.com\n",
            "Your user name is 'ashkanmulla' and your domain is 'gmail.com'\n"
          ]
        }
      ]
    }
  ]
}