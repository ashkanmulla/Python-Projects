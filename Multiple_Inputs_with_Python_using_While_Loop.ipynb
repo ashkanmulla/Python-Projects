{
  "nbformat": 4,
  "nbformat_minor": 0,
  "metadata": {
    "colab": {
      "name": "Multiple Inputs with Python using While Loop.ipynb",
      "provenance": [],
      "collapsed_sections": [],
      "authorship_tag": "ABX9TyPhe7XPCYU3QuVD7Wk/4pZX",
      "include_colab_link": true
    },
    "kernelspec": {
      "name": "python3",
      "display_name": "Python 3"
    },
    "language_info": {
      "name": "python"
    }
  },
  "cells": [
    {
      "cell_type": "markdown",
      "metadata": {
        "id": "view-in-github",
        "colab_type": "text"
      },
      "source": [
        "<a href=\"https://colab.research.google.com/github/ashkanmulla/Python-Projects/blob/main/Multiple_Inputs_with_Python_using_While_Loop.ipynb\" target=\"_parent\"><img src=\"https://colab.research.google.com/assets/colab-badge.svg\" alt=\"Open In Colab\"/></a>"
      ]
    },
    {
      "cell_type": "code",
      "metadata": {
        "colab": {
          "base_uri": "https://localhost:8080/"
        },
        "id": "w3tRNnyPNzQz",
        "outputId": "d044d316-db07-44d0-813c-b4370cf4b1f7"
      },
      "source": [
        "while True:\n",
        "    reply = input(\"Enter Text: \")\n",
        "    if reply == 'stop': break\n",
        "    print(reply)"
      ],
      "execution_count": null,
      "outputs": [
        {
          "output_type": "stream",
          "name": "stdout",
          "text": [
            "Enter Text: Ashkan\\\n",
            "Ashkan\\\n",
            "Enter Text: Mulla\n",
            "Mulla\n"
          ]
        }
      ]
    }
  ]
}