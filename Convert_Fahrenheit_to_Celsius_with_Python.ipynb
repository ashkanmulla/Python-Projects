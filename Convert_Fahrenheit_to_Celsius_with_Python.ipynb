{
  "nbformat": 4,
  "nbformat_minor": 0,
  "metadata": {
    "colab": {
      "name": "Convert Fahrenheit to Celsius with Python.ipynb",
      "provenance": [],
      "authorship_tag": "ABX9TyMSdVre6pbGLcqsP8iZNZLB",
      "include_colab_link": true
    },
    "kernelspec": {
      "name": "python3",
      "display_name": "Python 3"
    },
    "language_info": {
      "name": "python"
    }
  },
  "cells": [
    {
      "cell_type": "markdown",
      "metadata": {
        "id": "view-in-github",
        "colab_type": "text"
      },
      "source": [
        "<a href=\"https://colab.research.google.com/github/ashkanmulla/Python-Projects/blob/main/Convert_Fahrenheit_to_Celsius_with_Python.ipynb\" target=\"_parent\"><img src=\"https://colab.research.google.com/assets/colab-badge.svg\" alt=\"Open In Colab\"/></a>"
      ]
    },
    {
      "cell_type": "code",
      "metadata": {
        "colab": {
          "base_uri": "https://localhost:8080/"
        },
        "id": "obwOZZKALBfV",
        "outputId": "c94057b6-3e4c-4554-d175-480228d60e8b"
      },
      "source": [
        "def convert(s):\n",
        "    f = float(s)\n",
        "    c = (f - 32) * 5/9\n",
        "    return c\n",
        "\n",
        "print(convert(78))"
      ],
      "execution_count": 4,
      "outputs": [
        {
          "output_type": "stream",
          "name": "stdout",
          "text": [
            "25.555555555555557\n"
          ]
        }
      ]
    },
    {
      "cell_type": "code",
      "metadata": {
        "id": "nK6VivlsLCEx"
      },
      "source": [
        ""
      ],
      "execution_count": null,
      "outputs": []
    }
  ]
}