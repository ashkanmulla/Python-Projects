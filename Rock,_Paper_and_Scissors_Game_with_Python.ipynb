{
  "nbformat": 4,
  "nbformat_minor": 0,
  "metadata": {
    "colab": {
      "name": "Rock, Paper and Scissors Game with Python.ipynb",
      "provenance": [],
      "collapsed_sections": [],
      "authorship_tag": "ABX9TyNacthrd4AtZX/liccYLlJM",
      "include_colab_link": true
    },
    "kernelspec": {
      "name": "python3",
      "display_name": "Python 3"
    },
    "language_info": {
      "name": "python"
    }
  },
  "cells": [
    {
      "cell_type": "markdown",
      "metadata": {
        "id": "view-in-github",
        "colab_type": "text"
      },
      "source": [
        "<a href=\"https://colab.research.google.com/github/ashkanmulla/Python-Projects/blob/main/Rock%2C_Paper_and_Scissors_Game_with_Python.ipynb\" target=\"_parent\"><img src=\"https://colab.research.google.com/assets/colab-badge.svg\" alt=\"Open In Colab\"/></a>"
      ]
    },
    {
      "cell_type": "code",
      "metadata": {
        "colab": {
          "base_uri": "https://localhost:8080/"
        },
        "id": "c6DIs0zEMFzU",
        "outputId": "51b845a6-4e7f-4cf2-a4fb-a5a89db43e6b"
      },
      "source": [
        "import random\n",
        "choices = [\"Rock\", \"Paper\", \"Scissors\"]\n",
        "computer = random.choice(choices)\n",
        "player = False\n",
        "cpu_score = 0\n",
        "player_score = 0\n",
        "while True:\n",
        "    player = input(\"Rock, Paper or  Scissors?\").capitalize()\n",
        "    ## Conditions of Rock,Paper and Scissors\n",
        "    if player == computer:\n",
        "        print(\"Tie!\")\n",
        "    elif player == \"Rock\":\n",
        "        if computer == \"Paper\":\n",
        "            print(\"You lose!\", computer, \"covers\", player)\n",
        "            cpu_score+=1\n",
        "        else:\n",
        "            print(\"You win!\", player, \"smashes\", computer)\n",
        "            player_score+=1\n",
        "    elif player == \"Paper\":\n",
        "        if computer == \"Scissors\":\n",
        "            print(\"You lose!\", computer, \"cut\", player)\n",
        "            cpu_score+=1\n",
        "        else:\n",
        "            print(\"You win!\", player, \"covers\", computer)\n",
        "            player_score+=1\n",
        "    elif player == \"Scissors\":\n",
        "        if computer == \"Rock\":\n",
        "            print(\"You lose...\", computer, \"smashes\", player)\n",
        "            cpu_score+=1\n",
        "        else:\n",
        "            print(\"You win!\", player, \"cut\", computer)\n",
        "            player_score+=1\n",
        "    elif player=='End':\n",
        "        print(\"Final Scores:\")\n",
        "        print(f\"CPU:{cpu_score}\")\n",
        "        print(f\"Plaer:{player_score}\")\n",
        "        break"
      ],
      "execution_count": null,
      "outputs": [
        {
          "output_type": "stream",
          "name": "stdout",
          "text": [
            "Rock, Paper or  Scissors?Rock\n",
            "You lose! Paper covers Rock\n",
            "Rock, Paper or  Scissors?Paper\n",
            "Tie!\n",
            "Rock, Paper or  Scissors?Scissors\n",
            "You win! Scissors cut Paper\n",
            "Rock, Paper or  Scissors?Scissors\n",
            "You win! Scissors cut Paper\n"
          ]
        }
      ]
    }
  ]
}