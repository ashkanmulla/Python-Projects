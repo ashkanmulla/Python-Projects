{
  "nbformat": 4,
  "nbformat_minor": 0,
  "metadata": {
    "colab": {
      "name": "Convert Roman Numbers to Decimals.ipynb",
      "provenance": [],
      "collapsed_sections": [],
      "authorship_tag": "ABX9TyNXms8wAuxj97hjUljQrlsr",
      "include_colab_link": true
    },
    "kernelspec": {
      "name": "python3",
      "display_name": "Python 3"
    },
    "language_info": {
      "name": "python"
    }
  },
  "cells": [
    {
      "cell_type": "markdown",
      "metadata": {
        "id": "view-in-github",
        "colab_type": "text"
      },
      "source": [
        "<a href=\"https://colab.research.google.com/github/ashkanmulla/Python-Projects/blob/main/Convert_Roman_Numbers_to_Decimals.ipynb\" target=\"_parent\"><img src=\"https://colab.research.google.com/assets/colab-badge.svg\" alt=\"Open In Colab\"/></a>"
      ]
    },
    {
      "cell_type": "code",
      "metadata": {
        "id": "ZBAc-_rrICAG"
      },
      "source": [
        "tallies = {\n",
        "    'I': 1,\n",
        "    'V': 5,\n",
        "    'X': 10,\n",
        "    'L': 50,\n",
        "    'C': 100,\n",
        "    'D': 500,\n",
        "    'M': 1000,\n",
        "    # specify more numerals if you wish\n",
        "}\n",
        "\n",
        "def RomanNumeralToDecimal(romanNumeral):\n",
        "    sum = 0\n",
        "    for i in range(len(romanNumeral) - 1):\n",
        "        left = romanNumeral[i]\n",
        "        right = romanNumeral[i + 1]\n",
        "        if tallies[left] < tallies[right]:\n",
        "            sum -= tallies[left]\n",
        "        else:\n",
        "            sum += tallies[left]\n",
        "    sum += tallies[romanNumeral[-1]]\n",
        "    return sum"
      ],
      "execution_count": 11,
      "outputs": []
    },
    {
      "cell_type": "code",
      "metadata": {
        "colab": {
          "base_uri": "https://localhost:8080/"
        },
        "id": "dKUuXiu2IDdV",
        "outputId": "fb7501c3-bed8-46b9-f7e1-dad6d6135cb6"
      },
      "source": [
        "tallies"
      ],
      "execution_count": 12,
      "outputs": [
        {
          "output_type": "execute_result",
          "data": {
            "text/plain": [
              "{'C': 100, 'D': 500, 'I': 1, 'L': 50, 'M': 1000, 'V': 5, 'X': 10}"
            ]
          },
          "metadata": {},
          "execution_count": 12
        }
      ]
    },
    {
      "cell_type": "code",
      "metadata": {
        "id": "A8DnEAN2IFUw"
      },
      "source": [
        ""
      ],
      "execution_count": null,
      "outputs": []
    }
  ]
}