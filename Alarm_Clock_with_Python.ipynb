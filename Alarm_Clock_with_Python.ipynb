{
  "nbformat": 4,
  "nbformat_minor": 0,
  "metadata": {
    "colab": {
      "name": "Alarm Clock with Python.ipynb",
      "provenance": [],
      "collapsed_sections": [],
      "authorship_tag": "ABX9TyNnanUG2p6btQTqMzigxMkd",
      "include_colab_link": true
    },
    "kernelspec": {
      "name": "python3",
      "display_name": "Python 3"
    },
    "language_info": {
      "name": "python"
    }
  },
  "cells": [
    {
      "cell_type": "markdown",
      "metadata": {
        "id": "view-in-github",
        "colab_type": "text"
      },
      "source": [
        "<a href=\"https://colab.research.google.com/github/ashkanmulla/Python-Projects/blob/main/Alarm_Clock_with_Python.ipynb\" target=\"_parent\"><img src=\"https://colab.research.google.com/assets/colab-badge.svg\" alt=\"Open In Colab\"/></a>"
      ]
    },
    {
      "cell_type": "code",
      "metadata": {
        "colab": {
          "base_uri": "https://localhost:8080/"
        },
        "id": "XQ0bUNslMjmK",
        "outputId": "5f1d4d61-5dd0-48ff-d60b-8fc53b0e3409"
      },
      "source": [
        "pip install playsound"
      ],
      "execution_count": 10,
      "outputs": [
        {
          "output_type": "stream",
          "name": "stdout",
          "text": [
            "Collecting playsound\n",
            "  Downloading playsound-1.3.0.tar.gz (7.7 kB)\n",
            "Building wheels for collected packages: playsound\n",
            "  Building wheel for playsound (setup.py) ... \u001b[?25l\u001b[?25hdone\n",
            "  Created wheel for playsound: filename=playsound-1.3.0-py3-none-any.whl size=7037 sha256=0e09753dfb403e3b918e7b7c13c043d646ac45c5737c869859cabedd834d79da\n",
            "  Stored in directory: /root/.cache/pip/wheels/ba/f8/bb/ea57c0146b664dca3a0ada4199b0ecb5f9dfcb7b7e22b65ba2\n",
            "Successfully built playsound\n",
            "Installing collected packages: playsound\n",
            "Successfully installed playsound-1.3.0\n"
          ]
        }
      ]
    },
    {
      "cell_type": "code",
      "metadata": {
        "colab": {
          "base_uri": "https://localhost:8080/"
        },
        "id": "vUJ6BjNTMmLl",
        "outputId": "93c371dd-fc26-4318-82be-74d6bca72996"
      },
      "source": [
        "from datetime import datetime   \n",
        "from playsound import playsound\n",
        "alarm_time = input(\"Enter the time of alarm to be set:HH:MM:SS\\n\")\n",
        "alarm_hour=alarm_time[0:2]\n",
        "alarm_minute=alarm_time[3:5]\n",
        "alarm_seconds=alarm_time[6:8]\n",
        "alarm_period = alarm_time[9:11].upper()\n",
        "print(\"Setting up alarm..\")\n",
        "while True:\n",
        "    now = datetime.now()\n",
        "    current_hour = now.strftime(\"%I\")\n",
        "    current_minute = now.strftime(\"%M\")\n",
        "    current_seconds = now.strftime(\"%S\")\n",
        "    current_period = now.strftime(\"%p\")\n",
        "    if(alarm_period==current_period):\n",
        "        if(alarm_hour==current_hour):\n",
        "            if(alarm_minute==current_minute):\n",
        "                if(alarm_seconds==current_seconds):\n",
        "                    print(\"Wake Up!\")\n",
        "                    playsound('audio.mp3')\n",
        "                    break"
      ],
      "execution_count": null,
      "outputs": [
        {
          "output_type": "stream",
          "name": "stderr",
          "text": [
            "playsound is relying on another python subprocess. Please use `pip install pygobject` if you want playsound to run more efficiently.\n"
          ]
        },
        {
          "output_type": "stream",
          "name": "stdout",
          "text": [
            "Enter the time of alarm to be set:HH:MM:SS\n",
            "12:08:09\n",
            "Setting up alarm..\n"
          ]
        }
      ]
    }
  ]
}