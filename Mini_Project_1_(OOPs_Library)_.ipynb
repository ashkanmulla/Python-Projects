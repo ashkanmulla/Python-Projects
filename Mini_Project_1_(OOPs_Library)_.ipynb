{
  "nbformat": 4,
  "nbformat_minor": 0,
  "metadata": {
    "colab": {
      "name": "Mini Project 1 (OOPs Library) .ipynb",
      "provenance": [],
      "authorship_tag": "ABX9TyOuzvduw7NleBd5qfGwl+Ga",
      "include_colab_link": true
    },
    "kernelspec": {
      "name": "python3",
      "display_name": "Python 3"
    },
    "language_info": {
      "name": "python"
    }
  },
  "cells": [
    {
      "cell_type": "markdown",
      "metadata": {
        "id": "view-in-github",
        "colab_type": "text"
      },
      "source": [
        "<a href=\"https://colab.research.google.com/github/ashkanmulla/Python-Projects/blob/main/Mini_Project_1_(OOPs_Library)_.ipynb\" target=\"_parent\"><img src=\"https://colab.research.google.com/assets/colab-badge.svg\" alt=\"Open In Colab\"/></a>"
      ]
    },
    {
      "cell_type": "code",
      "metadata": {
        "colab": {
          "base_uri": "https://localhost:8080/"
        },
        "id": "icsSS_T5uE6m",
        "outputId": "0d64e409-9fa7-4c69-bcda-bb2caf4c297c"
      },
      "source": [
        "\n",
        "# Create a library class\n",
        "# display book\n",
        "# lend book - (who owns the book if not present)\n",
        "# add book\n",
        "# return book\n",
        "\n",
        "# AshkanLibrary = Library(listofbooks, library_name)\n",
        "\n",
        "\n",
        "#dictionary (books-nameofperson)\n",
        "\n",
        "# create a main function and run an infinite while loop asking\n",
        "# users for their input\n",
        "\n",
        "\n",
        "class Library:\n",
        "    def __init__(self, list, name):\n",
        "        self.booksList = list\n",
        "        self.name = name\n",
        "        self.lendDict = {}\n",
        "\n",
        "    def displayBooks(self):\n",
        "        print(f\"We have following books in our library: {self.name}\")\n",
        "        for book in self.booksList:\n",
        "            print(book)\n",
        "\n",
        "    def lendBook(self, user, book):\n",
        "        if book not in self.lendDict.keys():\n",
        "            self.lendDict.update({book:user})\n",
        "            print(\"Lender-Book database has been updated. You can take the book now\")\n",
        "        else:\n",
        "            print(f\"Book is already being used by {self.lendDict[book]}\")\n",
        "\n",
        "    def addBook(self, book):\n",
        "        self.booksList.append(book)\n",
        "        print(\"Book has been added to the book list\")\n",
        "\n",
        "    def returnBook(self, book):\n",
        "        self.lendDict.pop(book)\n",
        "\n",
        "if __name__ == '__main__':\n",
        "    harry = Library(['Python', 'Rich Daddy Poor Daddy', 'Harry Potter', 'C++ Basics', 'Algorithms by CLRS'], \"Ashkan\")\n",
        "\n",
        "    while(True):\n",
        "        print(f\"Welcome to the {harry.name} library. Enter your choice to continue\")\n",
        "        print(\"1. Display Books\")\n",
        "        print(\"2. Lend a Book\")\n",
        "        print(\"3. Add a Book\")\n",
        "        print(\"4. Return a Book\")\n",
        "        user_choice = input()\n",
        "        if user_choice not in ['1','2','3','4']:\n",
        "            print(\"Please enter a valid option\")\n",
        "            continue\n",
        "\n",
        "        else:\n",
        "            user_choice = int(user_choice)\n",
        "\n",
        "\n",
        "        if user_choice == 1:\n",
        "            harry.displayBooks()\n",
        "\n",
        "        elif user_choice == 2:\n",
        "            book = input(\"Enter the name of the book you want to lend:\")\n",
        "            user = input(\"Enter your name\")\n",
        "            harry.lendBook(user, book)\n",
        "\n",
        "        elif user_choice == 3:\n",
        "            book = input(\"Enter the name of the book you want to add:\")\n",
        "            harry.addBook(book)\n",
        "\n",
        "        elif user_choice == 4:\n",
        "            book = input(\"Enter the name of the book you want to return:\")\n",
        "            harry.returnBook(book)\n",
        "\n",
        "        else:\n",
        "            print(\"Not a valid option\")\n",
        "\n",
        "\n",
        "        print(\"Press q to quit and c to continue\")\n",
        "        user_choice2 = \"\"\n",
        "        while(user_choice2!=\"c\" and user_choice2!=\"q\"):\n",
        "            user_choice2 = input()\n",
        "            if user_choice2 == \"q\":\n",
        "                exit()\n",
        "\n",
        "            elif user_choice2 == \"c\":\n",
        "                continue\n",
        "\n"
      ],
      "execution_count": null,
      "outputs": [
        {
          "name": "stdout",
          "output_type": "stream",
          "text": [
            "Welcome to the Ashkan library. Enter your choice to continue\n",
            "1. Display Books\n",
            "2. Lend a Book\n",
            "3. Add a Book\n",
            "4. Return a Book\n",
            "1\n",
            "We have following books in our library: Ashkan\n",
            "Python\n",
            "Rich Daddy Poor Daddy\n",
            "Harry Potter\n",
            "C++ Basics\n",
            "Algorithms by CLRS\n",
            "Press q to quit and c to continue\n",
            "python\n",
            "1\n"
          ]
        }
      ]
    },
    {
      "cell_type": "code",
      "metadata": {
        "id": "4JuvPV-JuiQw"
      },
      "source": [
        ""
      ],
      "execution_count": null,
      "outputs": []
    }
  ]
}